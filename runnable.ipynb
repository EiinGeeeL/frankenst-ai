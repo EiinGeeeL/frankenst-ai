{
 "cells": [
  {
   "cell_type": "markdown",
   "metadata": {},
   "source": [
    "## REMOTE GRAPH: LangGraph Platform\n"
   ]
  },
  {
   "cell_type": "code",
   "execution_count": null,
   "metadata": {},
   "outputs": [],
   "source": [
    "from langgraph.pregel.remote import RemoteGraph\n",
    "from langgraph_sdk import get_sync_client\n",
    "from langgraph.types import Command\n",
    "\n",
    "url = \"http://127.0.0.1:8000\"\n",
    "graph_name = \"main_graph\"\n",
    "sync_client = get_sync_client(url=url)\n",
    "remote_graph = RemoteGraph(graph_name, url=url)\n",
    "\n",
    "# create a thread (or use an existing thread instead)\n",
    "thread = sync_client.threads.create()\n",
    "\n",
    "# obtain the graph with the thread config\n",
    "config = {\"configurable\": {\"thread_id\": thread[\"thread_id\"]}}"
   ]
  },
  {
   "cell_type": "code",
   "execution_count": null,
   "metadata": {},
   "outputs": [],
   "source": [
    "# Define the input and invoke\n",
    "user_input = \"Ey, puedes resumirme 10 mensajes?\"\n",
    "message_input = {\"messages\": [{\"role\": \"human\", \"content\": user_input}]}\n",
    "for event in remote_graph.stream(message_input, config, stream_mode=\"updates\"):\n",
    "    print(event)\n",
    "    print(\"\\n\")\n"
   ]
  },
  {
   "cell_type": "code",
   "execution_count": null,
   "metadata": {},
   "outputs": [],
   "source": [
    "# Continue the action\n",
    "for event in remote_graph.stream(\n",
    "    # provide continue\n",
    "    Command(resume={\"action\": \"continue\"}),\n",
    "    config,\n",
    "    stream_mode=\"updates\",\n",
    "):\n",
    "    print(event)\n",
    "    print(\"\\n\")"
   ]
  },
  {
   "cell_type": "markdown",
   "metadata": {},
   "source": [
    "## LOCAL AGENTS SERVERLESS"
   ]
  },
  {
   "cell_type": "markdown",
   "metadata": {},
   "source": [
    "#### OAKLANG"
   ]
  },
  {
   "cell_type": "code",
   "execution_count": null,
   "metadata": {},
   "outputs": [],
   "source": [
    "from langgraph.checkpoint.memory import MemorySaver\n",
    "from frank.workflow_builder import WorkflowBuilder\n",
    "from frank.config.layouts.simple_oak_config_graph import SimpleOakConfigGraph\n",
    "from frank.entity.models.stategraph import SharedState\n",
    "from frank.utils.common import read_yaml\n",
    "from frank.utils.logger import setup_logging\n",
    "from frank.constants import *\n",
    "\n",
    "## Read the config.yaml\n",
    "config = read_yaml(CONFIG_FILE_PATH)\n",
    "\n",
    "## Setup logging Configuration\n",
    "setup_logging(config)\n",
    "\n",
    "## Workflow Configuration for the main graph\n",
    "workflow_builder = WorkflowBuilder(\n",
    "    config=SimpleOakConfigGraph, \n",
    "    state_schema=SharedState, \n",
    "    checkpointer=MemorySaver(),\n",
    ")\n",
    "graph = workflow_builder.compile() # compile the graph\n",
    "workflow_builder.display_graph(save=True, filepath=\"artifacts/graph.png\") # update the graph artifact"
   ]
  },
  {
   "cell_type": "code",
   "execution_count": null,
   "metadata": {},
   "outputs": [],
   "source": [
    "# Define the RunnableConfig\n",
    "config = {\"configurable\": {\"thread_id\": \"001\"}}"
   ]
  },
  {
   "cell_type": "code",
   "execution_count": null,
   "metadata": {},
   "outputs": [],
   "source": [
    "# Define the input\n",
    "user_input = \"What is the evolution of feebas?; and could you give me random movements of the evolution?\"\n",
    "message_input = {\"messages\": [{\"role\": \"human\", \"content\": user_input}]}\n",
    "\n",
    "# Asynchronous function to handle the async generator\n",
    "async def process_stream():\n",
    "    async for event in graph.astream(message_input, config, stream_mode=\"updates\"):\n",
    "        print(event)\n",
    "        print(\"\\n\")\n",
    "\n",
    "# Directly await the function if you're in a notebook or similar environment\n",
    "await process_stream()"
   ]
  },
  {
   "cell_type": "markdown",
   "metadata": {},
   "source": [
    "#### HUMAN IN THE LOOP \n",
    "\n",
    "https://langchain-ai.github.io/langgraph/how-tos/human_in_the_loop/review-tool-calls/ "
   ]
  },
  {
   "cell_type": "code",
   "execution_count": 1,
   "metadata": {},
   "outputs": [
    {
     "name": "stdout",
     "output_type": "stream",
     "text": [
      "2025-04-15 19:54:12 - graph_layout - INFO - GraphLayout initialized\n",
      "2025-04-15 19:54:12 - edge_manager - INFO - EdgeManager initialized\n",
      "2025-04-15 19:54:12 - node_manager - INFO - NodeManager initialized\n",
      "2025-04-15 19:54:12 - workflow_builder - INFO - WorkFlowBuilder initialized\n"
     ]
    }
   ],
   "source": [
    "from langgraph.checkpoint.memory import MemorySaver\n",
    "from frank.workflow_builder import WorkflowBuilder\n",
    "from frank.config.layouts.oak_human_loop_config_graph import OakHumanLoopConfigGraph\n",
    "from frank.entity.models.stategraph import SharedState\n",
    "from frank.utils.common import read_yaml\n",
    "from frank.utils.logger import setup_logging\n",
    "from frank.constants import *\n",
    "\n",
    "## Read the config.yaml\n",
    "config = read_yaml(CONFIG_FILE_PATH)\n",
    "\n",
    "## Setup logging Configuration\n",
    "setup_logging(config)\n",
    "\n",
    "## Workflow Configuration for the main graph\n",
    "workflow_builder = WorkflowBuilder(\n",
    "    config=OakHumanLoopConfigGraph, \n",
    "    state_schema=SharedState, \n",
    "    checkpointer=MemorySaver(),\n",
    ")\n",
    "graph = workflow_builder.compile() # compile the graph\n",
    "# workflow_builder.display_graph(save=True, filepath=\"artifacts/human_graph.png\") # update the graph artifact"
   ]
  },
  {
   "cell_type": "code",
   "execution_count": 2,
   "metadata": {},
   "outputs": [],
   "source": [
    "from langgraph.types import Command\n",
    "\n",
    "# Define the RunnableConfig\n",
    "config = {\"configurable\": {\"thread_id\": \"001\"}}"
   ]
  },
  {
   "cell_type": "code",
   "execution_count": null,
   "metadata": {},
   "outputs": [],
   "source": [
    "# DEMO 1\n",
    "# Define the input\n",
    "user_input = \"Hi!\"\n",
    "message_input = {\"messages\": [{\"role\": \"human\", \"content\": user_input}]}\n",
    "\n",
    "# Asynchronous function to handle the async generator\n",
    "async def process_stream():\n",
    "    async for event in graph.astream(message_input, config, stream_mode=\"updates\"):\n",
    "        print(event)\n",
    "        print(\"\\n\")\n",
    "\n",
    "# Directly await the function if you're in a notebook or similar environment\n",
    "await process_stream()"
   ]
  },
  {
   "cell_type": "code",
   "execution_count": null,
   "metadata": {},
   "outputs": [],
   "source": [
    "# Define the input\n",
    "user_input = \"Could you give me random movements of pickachu, and what is his evolutions?\"\n",
    "message_input = {\"messages\": [{\"role\": \"human\", \"content\": user_input}]}\n",
    "\n",
    "# Asynchronous function to handle the async generator\n",
    "async def process_stream():\n",
    "    async for event in graph.astream(message_input, config, stream_mode=\"updates\"):\n",
    "        print(event)\n",
    "        print(\"\\n\")\n",
    "\n",
    "# Directly await the function if you're in a notebook or similar environment\n",
    "await process_stream()"
   ]
  },
  {
   "cell_type": "code",
   "execution_count": null,
   "metadata": {},
   "outputs": [],
   "source": [
    "# Define the input\n",
    "user_input = \"I would like to capture all the pokemon of Ireland\"\n",
    "message_input = {\"messages\": [{\"role\": \"human\", \"content\": user_input}]}\n",
    "\n",
    "# Asynchronous function to handle the async generator\n",
    "async def process_stream():\n",
    "    async for event in graph.astream(message_input, config, stream_mode=\"updates\"):\n",
    "        print(event)\n",
    "        print(\"\\n\")\n",
    "\n",
    "# Directly await the function if you're in a notebook or similar environment\n",
    "await process_stream()"
   ]
  },
  {
   "cell_type": "code",
   "execution_count": null,
   "metadata": {},
   "outputs": [],
   "source": [
    "message_input = Command(resume={\"action\": \"feedback\", \n",
    "                                \"data\": \"Sorry, I just want to capture all the pokemon of Iceland... NOT IRELAND\"})\n",
    "# Asynchronous function to handle the async generator\n",
    "async def process_stream():\n",
    "    async for event in graph.astream(message_input, config, stream_mode=\"updates\"):\n",
    "        print(event)\n",
    "        print(\"\\n\")\n",
    "\n",
    "# Directly await the function if you're in a notebook or similar environment\n",
    "await process_stream()"
   ]
  },
  {
   "cell_type": "code",
   "execution_count": null,
   "metadata": {},
   "outputs": [],
   "source": [
    "message_input = Command(resume={\"action\": \"continue\"})\n",
    "# Asynchronous function to handle the async generator\n",
    "async def process_stream():\n",
    "    async for event in graph.astream(message_input, config, stream_mode=\"updates\"):\n",
    "        print(event)\n",
    "        print(\"\\n\")\n",
    "\n",
    "# Directly await the function if you're in a notebook or similar environment\n",
    "await process_stream()"
   ]
  },
  {
   "cell_type": "code",
   "execution_count": null,
   "metadata": {},
   "outputs": [],
   "source": [
    "# TODO: fix manage two calls in the same stage\n",
    "### DEMO 2\n",
    "# Define the input\n",
    "user_input = \"I would like to capture all the pokemon of Ireland. By the way... What is the latest evolution of Pikachu?\"\n",
    "message_input = {\"messages\": [{\"role\": \"human\", \"content\": user_input}]}\n",
    "\n",
    "# Asynchronous function to handle the async generator\n",
    "async def process_stream():\n",
    "    async for event in graph.astream(message_input, config, stream_mode=\"updates\"):\n",
    "        print(event)\n",
    "        print(\"\\n\")\n",
    "\n",
    "# Directly await the function if you're in a notebook or similar environment\n",
    "await process_stream()"
   ]
  },
  {
   "cell_type": "code",
   "execution_count": null,
   "metadata": {},
   "outputs": [],
   "source": [
    "message_input = Command(resume={\"action\": \"feedback\", \n",
    "                                \"data\": \"Sorry, I just want to capture all the pokemon of Iceland... NOT IRELAND\"})\n",
    "# Asynchronous function to handle the async generator\n",
    "async def process_stream():\n",
    "    async for event in graph.astream(message_input, config, stream_mode=\"updates\"):\n",
    "        print(event)\n",
    "        print(\"\\n\")\n",
    "\n",
    "# Directly await the function if you're in a notebook or similar environment\n",
    "await process_stream()"
   ]
  },
  {
   "cell_type": "code",
   "execution_count": null,
   "metadata": {},
   "outputs": [],
   "source": [
    "message_input = Command(resume={\"action\": \"continue\"})\n",
    "# Asynchronous function to handle the async generator\n",
    "async def process_stream():\n",
    "    async for event in graph.astream(message_input, config, stream_mode=\"updates\"):\n",
    "        print(event)\n",
    "        print(\"\\n\")\n",
    "\n",
    "# Directly await the function if you're in a notebook or similar environment\n",
    "await process_stream()"
   ]
  },
  {
   "cell_type": "markdown",
   "metadata": {},
   "source": [
    "#### TEST DEFAULT"
   ]
  },
  {
   "cell_type": "code",
   "execution_count": null,
   "metadata": {},
   "outputs": [],
   "source": [
    "from typing import Any, Union\n",
    "from pydantic import BaseModel\n",
    "from langchain_core.messages import AnyMessage\n",
    "\n",
    "\n",
    "from typing_extensions import TypedDict, Literal\n",
    "from langgraph.graph import StateGraph, START, END, MessagesState\n",
    "from langgraph.checkpoint.memory import MemorySaver\n",
    "from langgraph.types import Command, interrupt\n",
    "from langchain_core.tools import tool\n",
    "from langchain_core.messages import AIMessage\n",
    "from IPython.display import Image, display\n",
    "from services.llm import LLMServices\n",
    "from langgraph.prebuilt import ToolNode\n",
    "from frank.components.tools.get_evolution_tool import GetEvolutionTool\n",
    "import requests\n",
    "\n",
    "\n",
    "@tool\n",
    "def weather_search(city: str):\n",
    "    \"\"\"Search for the weather\"\"\"\n",
    "    print(\"----\")\n",
    "    print(f\"Searching for: {city}\")\n",
    "    print(\"----\")\n",
    "    if city == 'New York':\n",
    "        return \"Sunny!\"\n",
    "    else:\n",
    "        return \"Cloudy\"\n",
    "\n",
    "# tools=[weather_search]\n",
    "tools=[GetEvolutionTool()]\n",
    "\n",
    "\n",
    "model = LLMServices.model.bind_tools(\n",
    "    tools\n",
    ")\n",
    "\n",
    "\n",
    "class State(MessagesState):\n",
    "    \"\"\"Simple state.\"\"\"\n",
    "\n",
    "\n",
    "\n",
    "async def call_llm(state: Union[list[AnyMessage], dict[str, Any], BaseModel]) -> dict[str, list]:\n",
    "    messages = state[\"messages\"]\n",
    "    response = await model.ainvoke(messages)\n",
    "    # We return a list, because this will get added to the existing list\n",
    "    print(f\"Printing Model State: {state}\")\n",
    "    return {\"messages\": [response]}\n",
    "\n",
    "\n",
    "def human_review_node(state) -> Command[Literal[\"call_llm\", \"run_tool\"]]:\n",
    "    last_message = state[\"messages\"][-1]\n",
    "    tool_call = last_message.tool_calls[-1]\n",
    "\n",
    "\n",
    "    # if len(state[\"messages\"]) > 1:\n",
    "    #     prenultimate_message = state[\"messages\"][-1]\n",
    "    print(f\"HUMAN REVIEW NODE MESSAGES: {state[\"messages\"]}\")\n",
    "\n",
    "    # if type(state[\"messages\"][-2]) == AIMessage:\n",
    "    #     recent_message = state[\"messages\"][-2]\n",
    "    #     another_tool_call= recent_message.tools_calls[-2]\n",
    "\n",
    "\n",
    "    # this is the value we'll be providing via Command(resume=<human_review>)\n",
    "    human_review = interrupt(\n",
    "        {\n",
    "            \"question\": \"Is this correct?\",\n",
    "            # Surface tool calls for review\n",
    "            \"tool_call\": tool_call,\n",
    "        }\n",
    "    )\n",
    "\n",
    "    review_action = human_review[\"action\"]\n",
    "    review_data = human_review.get(\"data\")\n",
    "\n",
    "    # if approved, call the tool\n",
    "    if review_action == \"continue\":\n",
    "        return Command(goto=\"run_tool\")\n",
    "\n",
    "    # update the AI message AND call tools\n",
    "    elif review_action == \"update\":\n",
    "        updated_message = {\n",
    "            \"role\": \"ai\",\n",
    "            \"content\": last_message.content,\n",
    "            \"tool_calls\": [\n",
    "                {\n",
    "                    \"id\": tool_call[\"id\"],\n",
    "                    \"name\": tool_call[\"name\"],\n",
    "                    # This the update provided by the human\n",
    "                    \"args\": review_data,\n",
    "                }\n",
    "            ],\n",
    "            # This is important - this needs to be the same as the message you replacing!\n",
    "            # Otherwise, it will show up as a separate message\n",
    "            \"id\": last_message.id,\n",
    "        }\n",
    "        return Command(goto=\"run_tool\", update={\"messages\": [updated_message]})\n",
    "\n",
    "    # provide feedback to LLM\n",
    "    elif review_action == \"feedback\":\n",
    "        # NOTE: we're adding feedback message as a ToolMessage\n",
    "        # to preserve the correct order in the message history\n",
    "        # (AI messages with tool calls need to be followed by tool call messages)\n",
    "        tool_message = {\n",
    "            \"role\": \"tool\",\n",
    "            # This is our natural language feedback\n",
    "            \"content\": review_data,\n",
    "            \"name\": tool_call[\"name\"],\n",
    "            \"tool_call_id\": tool_call[\"id\"],\n",
    "        }\n",
    "        return Command(goto=\"call_llm\", update={\"messages\": [tool_message]})\n",
    "\n",
    "\n",
    "\n",
    "\n",
    "def route_after_llm(state) -> Literal[\"end\", \"review\"]:\n",
    "    if len(state[\"messages\"][-1].tool_calls) == 0:\n",
    "        return \"end\"\n",
    "    else:\n",
    "        return \"review\"\n",
    "\n",
    "\n",
    "builder = StateGraph(State)\n",
    "builder.add_node(call_llm)\n",
    "\n",
    "builder.add_node(ToolNode(tools=tools,\n",
    "         name=\"run_tool\"))\n",
    "\n",
    "builder.add_node(human_review_node)\n",
    "builder.add_edge(START, \"call_llm\")\n",
    "\n",
    "\n",
    "builder.add_conditional_edges(source=\"call_llm\", \n",
    "                              path=route_after_llm,\n",
    "                              path_map={\n",
    "                                  \"end\": END, # If last call `tools`, then end.\n",
    "                                  \"review\": \"human_review_node\", # Human review in the loop.\n",
    "                                  }\n",
    ")\n",
    "\n",
    "builder.add_edge(\"run_tool\", \"call_llm\")\n",
    "\n",
    "# Set up memory\n",
    "memory = MemorySaver()\n",
    "\n",
    "# Add\n",
    "graph = builder.compile(checkpointer=memory)\n",
    "\n",
    "# View\n",
    "# display(Image(graph.get_graph().draw_mermaid_png()))"
   ]
  },
  {
   "cell_type": "code",
   "execution_count": null,
   "metadata": {},
   "outputs": [],
   "source": [
    "from langgraph.types import Command\n",
    "\n",
    "# Define the RunnableConfig\n",
    "config = {\"configurable\": {\"thread_id\": \"001\"}}"
   ]
  },
  {
   "cell_type": "code",
   "execution_count": null,
   "metadata": {},
   "outputs": [],
   "source": [
    "# Define the input\n",
    "user_input = \"Could you give the evolution of Feebas?\"\n",
    "message_input = {\"messages\": [{\"role\": \"human\", \"content\": user_input}]}\n",
    "\n",
    "# Asynchronous function to handle the async generator\n",
    "async def process_stream():\n",
    "    async for event in graph.astream(message_input, config, stream_mode=\"updates\"):\n",
    "        print(event)\n",
    "        print(\"\\n\")\n",
    "\n",
    "# Directly await the function if you're in a notebook or similar environment\n",
    "await process_stream()"
   ]
  },
  {
   "cell_type": "code",
   "execution_count": null,
   "metadata": {},
   "outputs": [],
   "source": [
    "message_input = Command(resume={\"action\": \"feedback\", \n",
    "                                \"data\": \"Sorry, I just wanted to know the evolution of Pikachu\"})\n",
    "\n",
    "# Asynchronous function to handle the async generator\n",
    "async def process_stream():\n",
    "    async for event in graph.astream(message_input, config, stream_mode=\"updates\"):\n",
    "        print(event)\n",
    "        print(\"\\n\")\n",
    "\n",
    "# Directly await the function if you're in a notebook or similar environment\n",
    "await process_stream()"
   ]
  },
  {
   "cell_type": "code",
   "execution_count": null,
   "metadata": {},
   "outputs": [],
   "source": [
    "message_input = Command(resume={\"action\": \"update\", \n",
    "                                \"data\": {\"pokemon_name\": \"pikachu\"}})\n",
    "\n",
    "# Asynchronous function to handle the async generator\n",
    "async def process_stream():\n",
    "    async for event in graph.astream(message_input, config, stream_mode=\"updates\"):\n",
    "        print(event)\n",
    "        print(\"\\n\")\n",
    "\n",
    "# Directly await the function if you're in a notebook or similar environment\n",
    "await process_stream()"
   ]
  },
  {
   "cell_type": "code",
   "execution_count": null,
   "metadata": {},
   "outputs": [],
   "source": [
    "message_input = Command(resume={\"action\": \"continue\"})\n",
    "# Asynchronous function to handle the async generator\n",
    "async def process_stream():\n",
    "    async for event in graph.astream(message_input, config, stream_mode=\"updates\"):\n",
    "        print(event)\n",
    "        print(\"\\n\")\n",
    "\n",
    "# Directly await the function if you're in a notebook or similar environment\n",
    "await process_stream()"
   ]
  },
  {
   "cell_type": "code",
   "execution_count": null,
   "metadata": {},
   "outputs": [],
   "source": [
    "############# WHEATHER SEARCH"
   ]
  },
  {
   "cell_type": "code",
   "execution_count": null,
   "metadata": {},
   "outputs": [],
   "source": [
    "# Define the input\n",
    "user_input = \"Could you give the whether of LA?\"\n",
    "message_input = {\"messages\": [{\"role\": \"human\", \"content\": user_input}]}\n",
    "\n",
    "# Asynchronous function to handle the async generator\n",
    "async def process_stream():\n",
    "    async for event in graph.astream(message_input, config, stream_mode=\"updates\"):\n",
    "        print(event)\n",
    "        print(\"\\n\")\n",
    "\n",
    "# Directly await the function if you're in a notebook or similar environment\n",
    "await process_stream()"
   ]
  },
  {
   "cell_type": "code",
   "execution_count": null,
   "metadata": {},
   "outputs": [],
   "source": [
    "message_input = Command(resume={\"action\": \"feedback\", \n",
    "                                \"data\": \"Sorry, I mean of New York\"})\n",
    "\n",
    "# Asynchronous function to handle the async generator\n",
    "async def process_stream():\n",
    "    async for event in graph.astream(message_input, config, stream_mode=\"updates\"):\n",
    "        print(event)\n",
    "        print(\"\\n\")\n",
    "\n",
    "# Directly await the function if you're in a notebook or similar environment\n",
    "await process_stream()"
   ]
  },
  {
   "cell_type": "code",
   "execution_count": null,
   "metadata": {},
   "outputs": [],
   "source": [
    "message_input = Command(resume={\"action\": \"update\", \n",
    "                                \"data\": {\"city\": \"New York\"}})\n",
    "\n",
    "# Asynchronous function to handle the async generator\n",
    "async def process_stream():\n",
    "    async for event in graph.astream(message_input, config, stream_mode=\"updates\"):\n",
    "        print(event)\n",
    "        print(\"\\n\")\n",
    "\n",
    "# Directly await the function if you're in a notebook or similar environment\n",
    "await process_stream()"
   ]
  },
  {
   "cell_type": "code",
   "execution_count": null,
   "metadata": {},
   "outputs": [],
   "source": [
    "message_input = Command(resume={\"action\": \"continue\"})\n",
    "# Asynchronous function to handle the async generator\n",
    "async def process_stream():\n",
    "    async for event in graph.astream(message_input, config, stream_mode=\"updates\"):\n",
    "        print(event)\n",
    "        print(\"\\n\")\n",
    "\n",
    "# Directly await the function if you're in a notebook or similar environment\n",
    "await process_stream()"
   ]
  },
  {
   "attachments": {
    "image.png": {
     "image/png": "[encoded data removed]"
    }
   },
   "cell_type": "markdown",
   "metadata": {},
   "source": [
    "#### AUTOGEN CORE + OAKLANG\n",
    "\n",
    "https://microsoft.github.io/autogen/stable/user-guide/core-user-guide/framework/distributed-agent-runtime.html\n",
    "\n",
    "https://microsoft.github.io/autogen/stable/user-guide/core-user-guide/core-concepts/architecture.html\n",
    "\n",
    "![image.png](attachment:image.png)\n",
    "\n",
    "A distributed runtime, as shown in the diagram above, consists of a host servicer and multiple workers. The host servicer facilitates communication between agents across workers and maintains the states of connections. The workers run agents and communicate with the host servicer via gateways. They advertise to the host servicer the agents they run and manage the agents’ lifecycles.\n",
    "\n",
    "Agents work the same way as in the standalone runtime so that developers can switch between the two runtime types with no change to their agent implementation."
   ]
  },
  {
   "cell_type": "code",
   "execution_count": null,
   "metadata": {},
   "outputs": [],
   "source": [
    "#### AUTOGEN WRAPPER\n",
    "\n",
    "from dataclasses import dataclass\n",
    "\n",
    "from autogen_core import AgentId, MessageContext, RoutedAgent, SingleThreadedAgentRuntime, message_handler\n",
    "from langgraph.graph.state import CompiledStateGraph\n",
    "\n",
    "@dataclass\n",
    "class Message:\n",
    "    content: str\n",
    "\n",
    "class LangGraphToolUseAgent(RoutedAgent):\n",
    "    def __init__(self, description: str, graph: CompiledStateGraph) -> None:  # pyright: ignore\n",
    "        super().__init__(description)\n",
    "\n",
    "        # Use the graph builder compiled\n",
    "        self._app = graph\n",
    "\n",
    "    @message_handler\n",
    "    async def handle_user_message(self, message: Message, ctx: MessageContext) -> Message:\n",
    "        # Use the Runnable\n",
    "        final_state = await self._app.ainvoke(\n",
    "            {\n",
    "                \"messages\": [{\"role\": \"human\", \n",
    "                              \"content\": message.content}]\n",
    "            },\n",
    "            config=config, # RunnableConfig here\n",
    "        )\n",
    "        response = Message(content=final_state[\"messages\"][-1].content)\n",
    "        return response\n",
    "\n",
    "\n",
    "runtime = SingleThreadedAgentRuntime()\n",
    "await LangGraphToolUseAgent.register(\n",
    "    runtime,\n",
    "    \"oaklang_langgraph\",\n",
    "    lambda: LangGraphToolUseAgent(\n",
    "        description=\"Tool use agent\",\n",
    "        graph=graph,\n",
    "    ),\n",
    ")\n",
    "agent = AgentId(\"oaklang_langgraph\", key=\"default\")"
   ]
  },
  {
   "cell_type": "code",
   "execution_count": null,
   "metadata": {},
   "outputs": [],
   "source": [
    "runtime.start()\n",
    "response = await runtime.send_message(Message(\"What is the evolution of feebas?; and could you give me random movements of the evolution?\"), agent)\n",
    "print(response.content)\n",
    "await runtime.stop()"
   ]
  },
  {
   "cell_type": "markdown",
   "metadata": {},
   "source": [
    "#### AUTOGEN + OAKLANG + HUMAN IN THE LOOP"
   ]
  },
  {
   "cell_type": "code",
   "execution_count": null,
   "metadata": {},
   "outputs": [],
   "source": [
    "from dataclasses import dataclass\n",
    "from autogen_core import AgentId, MessageContext, RoutedAgent, SingleThreadedAgentRuntime, message_handler\n",
    "from langgraph.graph.state import CompiledStateGraph\n",
    "from typing import Union\n",
    "from pydantic import BaseModel, ConfigDict\n",
    "from langgraph.types import Command  \n",
    "\n",
    "@dataclass\n",
    "class Message:\n",
    "    content: str\n",
    "\n",
    "@dataclass\n",
    "class WrapperCommand(BaseModel):\n",
    "    command: Command\n",
    "    model_config = ConfigDict(arbitrary_types_allowed=True)\n",
    "\n",
    "class LangGraphToolUseAgent(RoutedAgent):\n",
    "    def __init__(self, description: str, graph: CompiledStateGraph) -> None:\n",
    "        super().__init__(description)\n",
    "        self._app = graph\n",
    "\n",
    "    @message_handler\n",
    "    async def handle_user_message(self, message: Union[Message, WrapperCommand], ctx: MessageContext) -> Message:\n",
    "        # Build input for astream depending on message type\n",
    "        if isinstance(message, Message):\n",
    "            input_data = {\"messages\": [{\"role\": \"human\", \"content\": message.content}]}\n",
    "        elif isinstance(message, WrapperCommand):\n",
    "            input_data = message.command\n",
    "        else:\n",
    "            raise ValueError(\"Unsupported message type\")\n",
    "\n",
    "        output = \"\"\n",
    "        async for event in self._app.astream(input_data, config, stream_mode=\"updates\"):\n",
    "            print(\"Event streamed:\", event)\n",
    "            if isinstance(event, dict) and \"messages\" in event:\n",
    "                last_msg = event[\"messages\"][-1][\"content\"]\n",
    "                output = last_msg  # Capture the latest content\n",
    "\n",
    "        return Message(content=output)"
   ]
  },
  {
   "cell_type": "code",
   "execution_count": 3,
   "metadata": {},
   "outputs": [],
   "source": [
    "from autogen_core import AgentId, MessageContext, RoutedAgent, SingleThreadedAgentRuntime, message_handler\n",
    "from langgraph.graph.state import CompiledStateGraph\n",
    "from pydantic import BaseModel, ConfigDict\n",
    "from typing import Optional\n",
    "from langgraph.types import Command  \n",
    "\n",
    "class Message(BaseModel):\n",
    "    content: Optional[str] = None\n",
    "    command: Optional[Command] = None\n",
    "\n",
    "    model_config = ConfigDict(arbitrary_types_allowed=True)\n",
    "class LangGraphToolUseAgent(RoutedAgent):\n",
    "    def __init__(self, description: str, graph: CompiledStateGraph) -> None:\n",
    "        super().__init__(description)\n",
    "        self._app = graph\n",
    "\n",
    "    @message_handler\n",
    "    async def handle_message(self, message: Message, ctx: MessageContext) -> Message:\n",
    "        if message.command is not None:\n",
    "            input_data = message.command\n",
    "        else:\n",
    "            input_data = {\"messages\": [{\"role\": \"human\", \"content\": message.content}]}\n",
    "\n",
    "        output = \"\"\n",
    "\n",
    "        async for event in self._app.astream(input_data, config, stream_mode=\"updates\"):\n",
    "            print(\"Message stream event:\", event)\n",
    "            if isinstance(event, dict) and \"messages\" in event:\n",
    "                output = event[\"messages\"][-1][\"content\"]\n",
    "\n",
    "        return Message(content=output)\n"
   ]
  },
  {
   "cell_type": "code",
   "execution_count": 4,
   "metadata": {},
   "outputs": [],
   "source": [
    "runtime = SingleThreadedAgentRuntime()\n",
    "await LangGraphToolUseAgent.register(\n",
    "    runtime,\n",
    "    \"oaklang_langgraph\",\n",
    "    lambda: LangGraphToolUseAgent(\n",
    "        description=\"Tool use agent\",\n",
    "        graph=graph,\n",
    "    ),\n",
    ")\n",
    "agent = AgentId(\"oaklang_langgraph\", key=\"default\")"
   ]
  },
  {
   "cell_type": "code",
   "execution_count": 5,
   "metadata": {},
   "outputs": [
    {
     "name": "stdout",
     "output_type": "stream",
     "text": [
      "2025-04-15 19:54:28 - autogen_core - INFO - Calling message handler for oaklang_langgraph/default with message type Message sent by Unknown\n",
      "2025-04-15 19:54:28 - autogen_core.events - INFO - {\"payload\": \"{\\\"content\\\":\\\"I want capture all pokemon of Ireland\\\",\\\"command\\\":null}\", \"sender\": null, \"receiver\": \"oaklang_langgraph/default\", \"kind\": \"MessageKind.DIRECT\", \"delivery_stage\": \"DeliveryStage.DELIVER\", \"type\": \"Message\"}\n",
      "2025-04-15 19:54:28 - azure.core.pipeline.policies.http_logging_policy - INFO - Request URL: 'https://myaifoundrytra9200989372.openai.azure.com/openai/deployments/gpt-4o-mini/chat/completions?api-version=REDACTED'\n",
      "Request method: 'POST'\n",
      "Request headers:\n",
      "    'Content-Type': 'application/json'\n",
      "    'Content-Length': '1334'\n",
      "    'Accept': 'application/json'\n",
      "    'x-ms-client-request-id': 'acebf515-1a22-11f0-b223-00155dd0047e'\n",
      "    'api-key': 'REDACTED'\n",
      "    'User-Agent': 'langchain-azure-ai azsdk-python-ai-inference/1.0.0b9 Python/3.12.3 (Linux-5.15.167.4-microsoft-standard-WSL2-x86_64-with-glibc2.39)'\n",
      "    'Authorization': 'REDACTED'\n",
      "A body is sent with the request\n",
      "2025-04-15 19:54:28 - azure.core.pipeline.policies.http_logging_policy - INFO - Response status: 200\n",
      "Response headers:\n",
      "    'Content-Length': '1046'\n",
      "    'Content-Type': 'application/json'\n",
      "    'apim-request-id': 'REDACTED'\n",
      "    'Strict-Transport-Security': 'REDACTED'\n",
      "    'x-content-type-options': 'REDACTED'\n",
      "    'x-ms-region': 'REDACTED'\n",
      "    'x-ratelimit-remaining-requests': 'REDACTED'\n",
      "    'x-ratelimit-limit-requests': 'REDACTED'\n",
      "    'x-ratelimit-remaining-tokens': 'REDACTED'\n",
      "    'x-ratelimit-limit-tokens': 'REDACTED'\n",
      "    'cmp-upstream-response-duration': 'REDACTED'\n",
      "    'x-accel-buffering': 'REDACTED'\n",
      "    'x-aml-cluster': 'REDACTED'\n",
      "    'x-envoy-upstream-service-time': 'REDACTED'\n",
      "    'x-ms-rai-invoked': 'REDACTED'\n",
      "    'x-request-id': 'REDACTED'\n",
      "    'ms-azureml-model-time': 'REDACTED'\n",
      "    'x-ms-client-request-id': 'acebf515-1a22-11f0-b223-00155dd0047e'\n",
      "    'azureml-model-session': 'REDACTED'\n",
      "    'x-ms-deployment-name': 'REDACTED'\n",
      "    'Date': 'Tue, 15 Apr 2025 17:54:28 GMT'\n",
      "Message stream event: {'OakLangAgent': {'messages': [AIMessage(content='', additional_kwargs={'tool_calls': [{'id': 'call_772DzYeB0mzkF3OlAsDNp1wG', 'name': 'DominatePokemonTool', 'args': {'place': 'Ireland'}}]}, response_metadata={'model': 'gpt-4o-mini-2024-07-18', 'token_usage': {'input_tokens': 197, 'output_tokens': 17, 'total_tokens': 214}, 'finish_reason': 'tool_calls'}, id='run-a1ce6564-5742-4ff2-83ea-e03d623b1f26-0', tool_calls=[{'name': 'DominatePokemonTool', 'args': {'place': 'Ireland'}, 'id': 'call_772DzYeB0mzkF3OlAsDNp1wG', 'type': 'tool_call'}], usage_metadata={'input_tokens': 197, 'output_tokens': 17, 'total_tokens': 214})]}}\n",
      "############STATE: {'messages': [HumanMessage(content='I want capture all pokemon of Ireland', additional_kwargs={}, response_metadata={}, id='969777c6-a33d-4fd9-919d-289bd7bed7d8'), AIMessage(content='', additional_kwargs={'tool_calls': [{'id': 'call_772DzYeB0mzkF3OlAsDNp1wG', 'name': 'DominatePokemonTool', 'args': {'place': 'Ireland'}}]}, response_metadata={'model': 'gpt-4o-mini-2024-07-18', 'token_usage': {'input_tokens': 197, 'output_tokens': 17, 'total_tokens': 214}, 'finish_reason': 'tool_calls'}, id='run-a1ce6564-5742-4ff2-83ea-e03d623b1f26-0', tool_calls=[{'name': 'DominatePokemonTool', 'args': {'place': 'Ireland'}, 'id': 'call_772DzYeB0mzkF3OlAsDNp1wG', 'type': 'tool_call'}], usage_metadata={'input_tokens': 197, 'output_tokens': 17, 'total_tokens': 214})]}\n",
      "############LAST_MESSAGE: content='' additional_kwargs={'tool_calls': [{'id': 'call_772DzYeB0mzkF3OlAsDNp1wG', 'name': 'DominatePokemonTool', 'args': {'place': 'Ireland'}}]} response_metadata={'model': 'gpt-4o-mini-2024-07-18', 'token_usage': {'input_tokens': 197, 'output_tokens': 17, 'total_tokens': 214}, 'finish_reason': 'tool_calls'} id='run-a1ce6564-5742-4ff2-83ea-e03d623b1f26-0' tool_calls=[{'name': 'DominatePokemonTool', 'args': {'place': 'Ireland'}, 'id': 'call_772DzYeB0mzkF3OlAsDNp1wG', 'type': 'tool_call'}] usage_metadata={'input_tokens': 197, 'output_tokens': 17, 'total_tokens': 214}\n",
      "################TOOLS CALL: {'name': 'DominatePokemonTool', 'args': {'place': 'Ireland'}, 'id': 'call_772DzYeB0mzkF3OlAsDNp1wG', 'type': 'tool_call'}\n",
      "Message stream event: {'__interrupt__': (Interrupt(value={'question': 'Are you sure to make that pokemon senstivie action to Ireland?', 'tool_call': {'name': 'DominatePokemonTool', 'args': {'place': 'Ireland'}, 'id': 'call_772DzYeB0mzkF3OlAsDNp1wG', 'type': 'tool_call'}}, resumable=True, ns=['human_review:44bac6aa-78df-83a4-4e95-df1f4a063f5d']),)}\n",
      "2025-04-15 19:54:28 - autogen_core.events - INFO - {\"payload\": \"{\\\"content\\\":\\\"\\\",\\\"command\\\":null}\", \"sender\": \"oaklang_langgraph/default\", \"receiver\": null, \"kind\": \"MessageKind.RESPOND\", \"delivery_stage\": \"DeliveryStage.SEND\", \"type\": \"Message\"}\n",
      "2025-04-15 19:54:28 - autogen_core - INFO - Resolving response with message type Message for recipient None from oaklang_langgraph: {'content': '', 'command': None}\n",
      "2025-04-15 19:54:28 - autogen_core.events - INFO - {\"payload\": \"{\\\"content\\\":\\\"\\\",\\\"command\\\":null}\", \"sender\": \"oaklang_langgraph/default\", \"receiver\": null, \"kind\": \"MessageKind.RESPOND\", \"delivery_stage\": \"DeliveryStage.DELIVER\", \"type\": \"Message\"}\n",
      "2025-04-15 19:55:19 - autogen_core - INFO - Calling message handler for oaklang_langgraph/default with message type Message sent by Unknown\n",
      "2025-04-15 19:55:19 - autogen_core.events - INFO - {\"payload\": \"{\\\"content\\\":null,\\\"command\\\":{\\\"graph\\\":null,\\\"update\\\":null,\\\"resume\\\":{\\\"action\\\":\\\"continue\\\"},\\\"goto\\\":[]}}\", \"sender\": null, \"receiver\": \"oaklang_langgraph/default\", \"kind\": \"MessageKind.DIRECT\", \"delivery_stage\": \"DeliveryStage.DELIVER\", \"type\": \"Message\"}\n",
      "############STATE: {'messages': [HumanMessage(content='I want capture all pokemon of Ireland', additional_kwargs={}, response_metadata={}, id='969777c6-a33d-4fd9-919d-289bd7bed7d8'), AIMessage(content='', additional_kwargs={'tool_calls': [{'id': 'call_772DzYeB0mzkF3OlAsDNp1wG', 'name': 'DominatePokemonTool', 'args': {'place': 'Ireland'}}]}, response_metadata={'model': 'gpt-4o-mini-2024-07-18', 'token_usage': {'input_tokens': 197, 'output_tokens': 17, 'total_tokens': 214}, 'finish_reason': 'tool_calls'}, id='run-a1ce6564-5742-4ff2-83ea-e03d623b1f26-0', tool_calls=[{'name': 'DominatePokemonTool', 'args': {'place': 'Ireland'}, 'id': 'call_772DzYeB0mzkF3OlAsDNp1wG', 'type': 'tool_call'}], usage_metadata={'input_tokens': 197, 'output_tokens': 17, 'total_tokens': 214})]}\n",
      "############LAST_MESSAGE: content='' additional_kwargs={'tool_calls': [{'id': 'call_772DzYeB0mzkF3OlAsDNp1wG', 'name': 'DominatePokemonTool', 'args': {'place': 'Ireland'}}]} response_metadata={'model': 'gpt-4o-mini-2024-07-18', 'token_usage': {'input_tokens': 197, 'output_tokens': 17, 'total_tokens': 214}, 'finish_reason': 'tool_calls'} id='run-a1ce6564-5742-4ff2-83ea-e03d623b1f26-0' tool_calls=[{'name': 'DominatePokemonTool', 'args': {'place': 'Ireland'}, 'id': 'call_772DzYeB0mzkF3OlAsDNp1wG', 'type': 'tool_call'}] usage_metadata={'input_tokens': 197, 'output_tokens': 17, 'total_tokens': 214}\n",
      "################TOOLS CALL: {'name': 'DominatePokemonTool', 'args': {'place': 'Ireland'}, 'id': 'call_772DzYeB0mzkF3OlAsDNp1wG', 'type': 'tool_call'}\n",
      "Message stream event: {'human_review': None}\n",
      "2025-04-15 19:55:19 - dominate_pokemon_tool - INFO - Args: Ireland\n",
      "Message stream event: {'OakTools': {'messages': [ToolMessage(content='https://www.youtube.com/watch?v=dQw4w9WgXcQ', name='DominatePokemonTool', id='89622a26-6ff3-4c06-b74c-1986cc1deeea', tool_call_id='call_772DzYeB0mzkF3OlAsDNp1wG')]}}\n",
      "2025-04-15 19:55:19 - azure.core.pipeline.policies.http_logging_policy - INFO - Request URL: 'https://myaifoundrytra9200989372.openai.azure.com/openai/deployments/gpt-4o-mini/chat/completions?api-version=REDACTED'\n",
      "Request method: 'POST'\n",
      "Request headers:\n",
      "    'Content-Type': 'application/json'\n",
      "    'Content-Length': '1691'\n",
      "    'Accept': 'application/json'\n",
      "    'x-ms-client-request-id': 'cb8afceb-1a22-11f0-84bb-00155dd0047e'\n",
      "    'api-key': 'REDACTED'\n",
      "    'User-Agent': 'langchain-azure-ai azsdk-python-ai-inference/1.0.0b9 Python/3.12.3 (Linux-5.15.167.4-microsoft-standard-WSL2-x86_64-with-glibc2.39)'\n",
      "    'Authorization': 'REDACTED'\n",
      "A body is sent with the request\n",
      "2025-04-15 19:55:20 - azure.core.pipeline.policies.http_logging_policy - INFO - Response status: 200\n",
      "Response headers:\n",
      "    'Content-Length': '1458'\n",
      "    'Content-Type': 'application/json'\n",
      "    'apim-request-id': 'REDACTED'\n",
      "    'Strict-Transport-Security': 'REDACTED'\n",
      "    'x-content-type-options': 'REDACTED'\n",
      "    'x-ms-region': 'REDACTED'\n",
      "    'x-ratelimit-remaining-requests': 'REDACTED'\n",
      "    'x-ratelimit-limit-requests': 'REDACTED'\n",
      "    'x-ratelimit-remaining-tokens': 'REDACTED'\n",
      "    'x-ratelimit-limit-tokens': 'REDACTED'\n",
      "    'cmp-upstream-response-duration': 'REDACTED'\n",
      "    'x-accel-buffering': 'REDACTED'\n",
      "    'x-aml-cluster': 'REDACTED'\n",
      "    'x-envoy-upstream-service-time': 'REDACTED'\n",
      "    'x-ms-rai-invoked': 'REDACTED'\n",
      "    'x-request-id': 'REDACTED'\n",
      "    'ms-azureml-model-time': 'REDACTED'\n",
      "    'x-ms-client-request-id': 'cb8afceb-1a22-11f0-84bb-00155dd0047e'\n",
      "    'azureml-model-session': 'REDACTED'\n",
      "    'x-ms-deployment-name': 'REDACTED'\n",
      "    'Date': 'Tue, 15 Apr 2025 17:55:21 GMT'\n",
      "Message stream event: {'OakLangAgent': {'messages': [AIMessage(content=\"To help you capture all the Pokémon in Ireland, I've set a plan in motion! You can check out this video for the exciting effects of that action: [Watch Here](https://www.youtube.com/watch?v=dQw4w9WgXcQ). Best of luck on your journey to become a Pokémon Master!\", additional_kwargs={}, response_metadata={'model': 'gpt-4o-mini-2024-07-18', 'token_usage': {'input_tokens': 241, 'output_tokens': 68, 'total_tokens': 309}, 'finish_reason': 'stop'}, id='run-38967149-6793-4583-86f6-5ace37c006c8-0', usage_metadata={'input_tokens': 241, 'output_tokens': 68, 'total_tokens': 309})]}}\n",
      "2025-04-15 19:55:20 - autogen_core.events - INFO - {\"payload\": \"{\\\"content\\\":\\\"\\\",\\\"command\\\":null}\", \"sender\": \"oaklang_langgraph/default\", \"receiver\": null, \"kind\": \"MessageKind.RESPOND\", \"delivery_stage\": \"DeliveryStage.SEND\", \"type\": \"Message\"}\n",
      "2025-04-15 19:55:20 - autogen_core - INFO - Resolving response with message type Message for recipient None from oaklang_langgraph: {'content': '', 'command': None}\n",
      "2025-04-15 19:55:20 - autogen_core.events - INFO - {\"payload\": \"{\\\"content\\\":\\\"\\\",\\\"command\\\":null}\", \"sender\": \"oaklang_langgraph/default\", \"receiver\": null, \"kind\": \"MessageKind.RESPOND\", \"delivery_stage\": \"DeliveryStage.DELIVER\", \"type\": \"Message\"}\n"
     ]
    }
   ],
   "source": [
    "# Start the runtime\n",
    "runtime.start()"
   ]
  },
  {
   "cell_type": "code",
   "execution_count": null,
   "metadata": {},
   "outputs": [],
   "source": [
    "# Example with regular message\n",
    "response = await runtime.send_message(\n",
    "    Message(content=\"What is the evolution of feebas?; and could you give me random movements of the evolution?\", command=None),\n",
    "    agent\n",
    ")"
   ]
  },
  {
   "cell_type": "code",
   "execution_count": 6,
   "metadata": {},
   "outputs": [
    {
     "name": "stdout",
     "output_type": "stream",
     "text": [
      "2025-04-15 19:54:28 - autogen_core.events - INFO - {\"payload\": \"{\\\"content\\\":\\\"I want capture all pokemon of Ireland\\\",\\\"command\\\":null}\", \"sender\": null, \"receiver\": \"oaklang_langgraph/default\", \"kind\": \"MessageKind.DIRECT\", \"delivery_stage\": \"DeliveryStage.SEND\", \"type\": \"Message\"}\n",
      "2025-04-15 19:54:28 - autogen_core - INFO - Sending message of type Message to oaklang_langgraph: {'content': 'I want capture all pokemon of Ireland', 'command': None}\n"
     ]
    }
   ],
   "source": [
    "# Example with regular message\n",
    "response = await runtime.send_message(\n",
    "    Message(content='I want capture all pokemon of Ireland', command=None),\n",
    "    agent\n",
    ")"
   ]
  },
  {
   "cell_type": "code",
   "execution_count": 7,
   "metadata": {},
   "outputs": [
    {
     "name": "stdout",
     "output_type": "stream",
     "text": [
      "2025-04-15 19:55:19 - autogen_core.events - INFO - {\"payload\": \"{\\\"content\\\":null,\\\"command\\\":{\\\"graph\\\":null,\\\"update\\\":null,\\\"resume\\\":{\\\"action\\\":\\\"continue\\\"},\\\"goto\\\":[]}}\", \"sender\": null, \"receiver\": \"oaklang_langgraph/default\", \"kind\": \"MessageKind.DIRECT\", \"delivery_stage\": \"DeliveryStage.SEND\", \"type\": \"Message\"}\n",
      "2025-04-15 19:55:19 - autogen_core - INFO - Sending message of type Message to oaklang_langgraph: {'content': None, 'command': Command(resume={'action': 'continue'})}\n"
     ]
    }
   ],
   "source": [
    "# Example with regular message\n",
    "response = await runtime.send_message(\n",
    "    Message(content=None, command=Command(resume={\"action\": \"continue\"})),\n",
    "    agent\n",
    ")"
   ]
  },
  {
   "cell_type": "code",
   "execution_count": null,
   "metadata": {},
   "outputs": [],
   "source": [
    "# Example with regular message\n",
    "response = await runtime.send_message(\n",
    "    Message(content=None, command=Command(resume={\"action\": \"feedback\", \"data\": \"Sorry, I just want to capture all the pokemon of Iceland... NOT IRELAND\"})),\n",
    "    agent\n",
    ")\n",
    "\n",
    "# # Example with command message\n",
    "# response = await runtime.send_message(\n",
    "#     Command(resume={\"action\": \"feedback\", \"data\": \"Sorry, I just want to capture all the pokemon of Iceland... NOT IRELAND\"}),\n",
    "#     agent\n",
    "# )\n",
    "# print(\"Response:\", response.content)\n",
    "\n",
    "# # Stop the runtime\n",
    "# await runtime.stop()\n"
   ]
  },
  {
   "cell_type": "code",
   "execution_count": null,
   "metadata": {},
   "outputs": [],
   "source": [
    "# Example with command message\n",
    "response = await runtime.send_message(\n",
    "    WrapperCommand(Command(resume={\"action\": \"feedback\", \"data\": \"Sorry, I just want to capture all the pokemon of Iceland... NOT IRELAND\"})),\n",
    "    agent\n",
    ")\n",
    "print(\"Response:\", response.command)\n",
    "\n",
    "# Stop the runtime\n",
    "await runtime.stop()"
   ]
  },
  {
   "cell_type": "markdown",
   "metadata": {},
   "source": [
    "## AZURE AI FOUNDRY TRACE MONITORING"
   ]
  },
  {
   "cell_type": "markdown",
   "metadata": {},
   "source": [
    "#### TRACE MONITORING AUTOGEN + LANGGRAPH (NATIVE)"
   ]
  },
  {
   "cell_type": "code",
   "execution_count": null,
   "metadata": {},
   "outputs": [],
   "source": [
    "#### https://learn.microsoft.com/en-us/azure/ai-foundry/how-to/develop/langchain\n",
    "\n",
    "#A\n",
    "import os\n",
    "\n",
    "application_insights_connection_string = os.environ[\"AZURE_APP_INSIGHT_CONNECTION_STRING\"]\n",
    "\n",
    "#B\n",
    "\n",
    "# from azure.ai.projects import AIProjectClient\n",
    "# from azure.identity import DefaultAzureCredential # NOTE USE ASYNC DEFAULT CREDENTIALS\n",
    "\n",
    "# project_client = AIProjectClient.from_connection_string(\n",
    "#     credential=DefaultAzureCredential(),\n",
    "#     conn_str=\"<your-project-connection-string>\",\n",
    "# )\n",
    "\n",
    "# application_insights_connection_string = project_client.telemetry.get_connection_string()\n",
    "\n",
    "\n",
    "from langchain_azure_ai.callbacks.tracers import AzureAIInferenceTracer\n",
    "\n",
    "langchain_tracer = AzureAIInferenceTracer(\n",
    "    connection_string=application_insights_connection_string,\n",
    "    enable_content_recording=True,\n",
    ")"
   ]
  },
  {
   "cell_type": "code",
   "execution_count": null,
   "metadata": {},
   "outputs": [],
   "source": [
    "# Define the thread_id\n",
    "config = {\"configurable\": {\"thread_id\": \"001\"}, \"callbacks\": [langchain_tracer]}"
   ]
  },
  {
   "cell_type": "code",
   "execution_count": null,
   "metadata": {},
   "outputs": [],
   "source": [
    "#### LANGGRAPH\n",
    "\n",
    "# Define the input\n",
    "user_input = \"What is the evolution of feebas?; and could you give me random movements of the evolution?\"\n",
    "message_input = {\"messages\": [{\"role\": \"human\", \"content\": user_input}]}\n",
    "\n",
    "# Asynchronous function to handle the async generator\n",
    "async def process_stream():\n",
    "    async for event in graph.astream(message_input, config, stream_mode=\"updates\"):\n",
    "        print(event)\n",
    "        print(\"\\n\")\n",
    "\n",
    "# Directly await the function if you're in a notebook or similar environment\n",
    "await process_stream()"
   ]
  },
  {
   "cell_type": "code",
   "execution_count": null,
   "metadata": {},
   "outputs": [],
   "source": [
    "#### AUTOGEN WRAPPER"
   ]
  },
  {
   "cell_type": "code",
   "execution_count": null,
   "metadata": {},
   "outputs": [],
   "source": [
    "#### AUTOGEN + LANGGRAPH\n",
    "runtime.start()\n",
    "response = await runtime.send_message(Message(\"What is the evolution of feebas?; and could you give me random movements of the evolution?\"), agent)\n",
    "print(response.content)\n",
    "await runtime.stop()"
   ]
  },
  {
   "cell_type": "markdown",
   "metadata": {},
   "source": [
    "#### TRACE MONITORING AUTOGEN + LANGGRAPH (NATIVE AND NESTED)\n",
    "\n",
    "\n",
    "When AIInferenceInstrumentor and AzureAIInferenceTracer are both enabled, there are running into issues like:\n",
    "\n",
    "* Context mismatch: spans not appearing under the correct parent.\n",
    "\n",
    "* Span duplication: multiple root spans instead of nested ones.\n",
    "\n",
    "* Runtime errors: likely related to uninstrumented or mismatched spans.\n"
   ]
  },
  {
   "cell_type": "code",
   "execution_count": null,
   "metadata": {},
   "outputs": [],
   "source": [
    "#### https://learn.microsoft.com/en-us/azure/ai-foundry/how-to/develop/langchain\n",
    "\n",
    "#A\n",
    "import os\n",
    "\n",
    "application_insights_connection_string = os.environ[\"AZURE_APP_INSIGHT_CONNECTION_STRING\"]\n",
    "\n",
    "#B\n",
    "\n",
    "# from azure.ai.projects import AIProjectClient\n",
    "# from azure.identity import DefaultAzureCredential # NOTE USE ASYNC DEFAULT CREDENTIALS\n",
    "\n",
    "# project_client = AIProjectClient.from_connection_string(\n",
    "#     credential=DefaultAzureCredential(),\n",
    "#     conn_str=\"<your-project-connection-string>\",\n",
    "# )\n",
    "\n",
    "# application_insights_connection_string = project_client.telemetry.get_connection_string()\n",
    "\n",
    "\n",
    "from langchain_azure_ai.callbacks.tracers import AzureAIInferenceTracer\n",
    "\n",
    "langchain_tracer = AzureAIInferenceTracer(\n",
    "    connection_string=application_insights_connection_string,\n",
    "    enable_content_recording=True,\n",
    ")"
   ]
  },
  {
   "cell_type": "code",
   "execution_count": null,
   "metadata": {},
   "outputs": [],
   "source": [
    "# Define the thread_id\n",
    "config = {\"configurable\": {\"thread_id\": \"001\"}, \"callbacks\": [langchain_tracer]}"
   ]
  },
  {
   "cell_type": "code",
   "execution_count": null,
   "metadata": {},
   "outputs": [],
   "source": [
    "#### AUTOGEN WRAPPER"
   ]
  },
  {
   "cell_type": "code",
   "execution_count": null,
   "metadata": {},
   "outputs": [],
   "source": [
    "import os\n",
    "from opentelemetry import trace\n",
    "from azure.monitor.opentelemetry import configure_azure_monitor\n",
    "from azure.ai.inference.tracing import AIInferenceInstrumentor \n",
    "from opentelemetry.instrumentation.threading import ThreadingInstrumentor\n",
    "\n",
    "# NOTE: Already made in LangCHain\n",
    "# Enable Azure Monitor tracing\n",
    "# application_insights_connection_string = os.environ[\"AZURE_APP_INSIGHT_CONNECTION_STRING\"]\n",
    "# configure_azure_monitor(connection_string=application_insights_connection_string)\n",
    "\n",
    "# ThreadingInstrumentor().instrument(enable_content_recording=True)\n",
    "# instrumentor = AIInferenceInstrumentor() \n",
    "# instrumentor.instrument(enable_content_recording=True) \n",
    "\n",
    "scenario = \"autogen_langgraph_trace_monitoring_nested\" # os.path.basename(__file__)\n",
    "tracer = trace.get_tracer(__name__)\n",
    "\n",
    "\n",
    "with tracer.start_as_current_span(scenario) as parent_span:\n",
    "    runtime.start()\n",
    "    response = await runtime.send_message(Message(\"What is the evolution of feebas?; and could you give me random movements of the evolution?\"), agent)\n",
    "    print(response.content)\n",
    "    await runtime.stop()"
   ]
  },
  {
   "cell_type": "code",
   "execution_count": null,
   "metadata": {},
   "outputs": [],
   "source": []
  },
  {
   "cell_type": "code",
   "execution_count": null,
   "metadata": {},
   "outputs": [],
   "source": []
  },
  {
   "cell_type": "code",
   "execution_count": null,
   "metadata": {},
   "outputs": [],
   "source": []
  },
  {
   "cell_type": "code",
   "execution_count": null,
   "metadata": {},
   "outputs": [],
   "source": []
  },
  {
   "cell_type": "markdown",
   "metadata": {},
   "source": [
    "# 🤖 LangGraph + AutoGen: Resumen\n",
    "\n",
    "## 🧠 ¿Qué aporta cada uno?\n",
    "\n",
    "### ✅ Ventajas de usar AutoGen con LangGraph\n",
    "\n",
    "**AutoGen destaca por:**\n",
    "- Gestión de múltiples agentes con roles definidos (`user_proxy`, `assistant`, `coder`, `critic`, etc.).\n",
    "- Supervisor integrado para coordinar agentes automáticamente.\n",
    "- Soporte para memoria, múltiples rondas y auto-detención.\n",
    "- Ideal como \"orquestadora\" de agentes sobre un backend.\n",
    "\n",
    "**LangGraph destaca por:**\n",
    "- Flujos **determinísticos y controlables** mediante nodos y condiciones.\n",
    "- Ideal para workflows estructurados, decisiones condicionales y visualización.\n",
    "- Cada nodo puede representar un paso lógico o un agente.\n",
    "\n",
    "---\n",
    "\n",
    "## ¿Dónde es mejor ubicar un **supervisor**?\n",
    "\n",
    "### Opción 1: **Supervisor en AutoGen**\n",
    "\n",
    "**✅ Pros:**\n",
    "- Implementado por defecto.\n",
    "- Maneja decisiones reflexivas y coordinación entre agentes.\n",
    "- Bueno para agentes que necesitan interactuar dinámicamente.\n",
    "\n",
    "**❌ Contras:**\n",
    "- Menos control estructural del flujo.\n",
    "- Más difícil de visualizar o predecir.\n",
    "\n",
    "### Opción 2: **Supervisor en LangGraph**\n",
    "\n",
    "**✅ Pros:**\n",
    "- Control total del flujo, decisiones, loops y bifurcaciones.\n",
    "- Fácil de visualizar y depurar.\n",
    "\n",
    "**❌ Contras:**\n",
    "- Tienes que codificar la lógica supervisora manualmente.\n",
    "- Menos dinámico que AutoGen en colaboración espontánea.\n",
    "\n",
    "---\n",
    "\n",
    "## 🚀 ¿Qué hacer si quiero más agentes y un supervisor personalizado?\n",
    "\n",
    "### 🛠️ Opción 1: LangGraph como estructura principal\n",
    "\n",
    "- Crea un nodo \"supervisor\" que decide qué agente activar.\n",
    "- Cada agente es un nodo con lógica definida.\n",
    "- Ideal para sistemas robustos y predecibles.\n",
    "\n",
    "### 🤝 Opción 2: AutoGen como coordinador de alto nivel\n",
    "\n",
    "- AutoGen se encarga del flujo y supervisión.\n",
    "- LangGraph se usa dentro de ciertos agentes como motor de flujo interno.\n",
    "- Ideal si necesitas colaboración y razonamiento multiagente.\n",
    "\n",
    "---\n",
    "\n",
    "## 📌 Key Points\n",
    "\n",
    "- Si quieres **colaboración reflexiva y automatizada** → usa el **supervisor de AutoGen**.\n",
    "- Si quieres **control total del flujo y reglas personalizadas** → implementa el **supervisor en LangGraph**.\n",
    "- Para lo mejor de ambos mundos: **usa LangGraph como estructura y AutoGen como capa de decisión/reflexión.**\n",
    "\n"
   ]
  },
  {
   "cell_type": "markdown",
   "metadata": {},
   "source": []
  }
 ],
 "metadata": {
  "kernelspec": {
   "display_name": ".venv",
   "language": "python",
   "name": "python3"
  },
  "language_info": {
   "codemirror_mode": {
    "name": "ipython",
    "version": 3
   },
   "file_extension": ".py",
   "mimetype": "text/x-python",
   "name": "python",
   "nbconvert_exporter": "python",
   "pygments_lexer": "ipython3",
   "version": "3.12.3"
  }
 },
 "nbformat": 4,
 "nbformat_minor": 4
}
