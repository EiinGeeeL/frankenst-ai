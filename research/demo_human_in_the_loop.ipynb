{
 "cells": [
  {
   "cell_type": "code",
   "execution_count": null,
   "id": "bad32497",
   "metadata": {},
   "outputs": [],
   "source": [
    "%load_ext autoreload\n",
    "%autoreload 2"
   ]
  },
  {
   "cell_type": "code",
   "execution_count": null,
   "id": "e01d1c96",
   "metadata": {},
   "outputs": [],
   "source": [
    "import os\n",
    "\n",
    "# Get the current research's directory\n",
    "research_dir = os.path.dirname(os.path.abspath('__file__'))\n",
    "\n",
    "# Move one directory back\n",
    "parent_dir = os.path.dirname(research_dir)\n",
    "\n",
    "# Change the current working directory to the parent directory\n",
    "os.chdir(parent_dir)\n",
    "\n",
    "# Print the current working directory to confirm\n",
    "print(f\"Current working directory: {os.getcwd()}\")"
   ]
  },
  {
   "cell_type": "code",
   "execution_count": null,
   "id": "05066a4c",
   "metadata": {},
   "outputs": [],
   "source": [
    "from core.utils.common import print_process_astream"
   ]
  },
  {
   "cell_type": "markdown",
   "id": "80ee1fc4",
   "metadata": {},
   "source": [
    "# OakLang Agent HITL with Frank utilities"
   ]
  },
  {
   "cell_type": "code",
   "execution_count": null,
   "id": "e43e2972",
   "metadata": {},
   "outputs": [],
   "source": [
    "from langgraph.types import Command\n",
    "from langgraph.checkpoint.memory import MemorySaver\n",
    "\n",
    "from frank.workflow_builder import WorkflowBuilder\n",
    "from core.config.layouts.oak_human_loop_config_graph import OakHumanLoopConfigGraph\n",
    "from core.models.stategraph.stategraph import SharedState\n",
    "from core.utils.common import read_yaml\n",
    "from core.utils.logger import setup_logging\n",
    "from core.constants import *\n",
    "\n",
    "## Read the config.yaml\n",
    "config = read_yaml(CONFIG_FILE_PATH)\n",
    "\n",
    "## Setup logging Configuration\n",
    "setup_logging(config)\n",
    "\n",
    "## Workflow Configuration for the main graph\n",
    "workflow_builder = WorkflowBuilder(\n",
    "    config=OakHumanLoopConfigGraph, \n",
    "    state_schema=SharedState, \n",
    "    checkpointer=MemorySaver(),\n",
    ")\n",
    "graph = workflow_builder.compile() # compile the graph\n",
    "# workflow_builder.display_graph(save=True, filepath=\"artifacts/human_graph.png\") # update the graph artifact"
   ]
  },
  {
   "cell_type": "code",
   "execution_count": null,
   "id": "7199b2de",
   "metadata": {},
   "outputs": [],
   "source": [
    "# Define the input\n",
    "user_input = \"Could you give me random movements of pickachu, and what is his evolutions?\"\n",
    "message_input = {\"messages\": [{\"role\": \"human\", \"content\": user_input}]}\n",
    "await print_process_astream(graph, message_input, runnable_config={\"configurable\": {\"thread_id\": \"001\"},})"
   ]
  },
  {
   "cell_type": "code",
   "execution_count": null,
   "id": "5b028766",
   "metadata": {},
   "outputs": [],
   "source": [
    "# Define the input\n",
    "user_input = \"Please, give me random movements of that evolution?\"\n",
    "message_input = {\"messages\": [{\"role\": \"human\", \"content\": user_input}]}\n",
    "await print_process_astream(graph, message_input, runnable_config={\"configurable\": {\"thread_id\": \"001\"},})"
   ]
  },
  {
   "cell_type": "code",
   "execution_count": null,
   "id": "350661d9",
   "metadata": {},
   "outputs": [],
   "source": [
    "# Define the input\n",
    "user_input = \"I would like to capture all the pokemon of Ireland\"\n",
    "message_input = {\"messages\": [{\"role\": \"human\", \"content\": user_input}]}\n",
    "await print_process_astream(graph, message_input, runnable_config={\"configurable\": {\"thread_id\": \"002\"},})"
   ]
  },
  {
   "cell_type": "code",
   "execution_count": null,
   "id": "aaa4664c",
   "metadata": {},
   "outputs": [],
   "source": [
    "# Define the input\n",
    "message_input = Command(resume={\"action\": \"feedback\", \n",
    "                                \"data\": \"Sorry, I meant to capture all the pokemon of Iceland... NOT IRELAND\"})\n",
    "await print_process_astream(graph, message_input, runnable_config={\"configurable\": {\"thread_id\": \"002\"},})"
   ]
  },
  {
   "cell_type": "code",
   "execution_count": null,
   "id": "4fe4804e",
   "metadata": {},
   "outputs": [],
   "source": [
    "# Define the input\n",
    "message_input = Command(resume={\"action\": \"continue\"})\n",
    "await print_process_astream(graph, message_input, runnable_config={\"configurable\": {\"thread_id\": \"002\"},})"
   ]
  },
  {
   "cell_type": "code",
   "execution_count": null,
   "id": "f5a4f78c",
   "metadata": {},
   "outputs": [],
   "source": [
    "# Define the input\n",
    "user_input = \"What is the evolution of feebas?. I would like to capture/dominate all the pokemon of Ireland. By the way... Could you give me random movements of Pikachu?\"\n",
    "message_input = {\"messages\": [{\"role\": \"human\", \"content\": user_input}]}\n",
    "await print_process_astream(graph, message_input, runnable_config={\"configurable\": {\"thread_id\": \"003\"},})"
   ]
  },
  {
   "cell_type": "code",
   "execution_count": null,
   "id": "6b7c2a82",
   "metadata": {},
   "outputs": [],
   "source": [
    "# Define the input\n",
    "message_input = Command(resume={\"action\": \"continue\"})\n",
    "await print_process_astream(graph, message_input, runnable_config={\"configurable\": {\"thread_id\": \"003\"},})"
   ]
  }
 ],
 "metadata": {
  "kernelspec": {
   "display_name": ".venv",
   "language": "python",
   "name": "python3"
  },
  "language_info": {
   "codemirror_mode": {
    "name": "ipython",
    "version": 3
   },
   "file_extension": ".py",
   "mimetype": "text/x-python",
   "name": "python",
   "nbconvert_exporter": "python",
   "pygments_lexer": "ipython3",
   "version": "3.12.3"
  }
 },
 "nbformat": 4,
 "nbformat_minor": 5
}
