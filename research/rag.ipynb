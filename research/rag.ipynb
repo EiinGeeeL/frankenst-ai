{
 "cells": [
  {
   "cell_type": "code",
   "execution_count": 1,
   "id": "bad32497",
   "metadata": {},
   "outputs": [],
   "source": [
    "%load_ext autoreload\n",
    "%autoreload 2"
   ]
  },
  {
   "cell_type": "code",
   "execution_count": 2,
   "id": "e01d1c96",
   "metadata": {},
   "outputs": [
    {
     "name": "stdout",
     "output_type": "stream",
     "text": [
      "Current working directory: /home/eiingeeel/projects/frankenst-ai\n"
     ]
    }
   ],
   "source": [
    "import os\n",
    "\n",
    "# Get the current research's directory\n",
    "research_dir = os.path.dirname(os.path.abspath('__file__'))\n",
    "\n",
    "# Move one directory back\n",
    "parent_dir = os.path.dirname(research_dir)\n",
    "\n",
    "# Change the current working directory to the parent directory\n",
    "os.chdir(parent_dir)\n",
    "\n",
    "# Print the current working directory to confirm\n",
    "print(f\"Current working directory: {os.getcwd()}\")"
   ]
  },
  {
   "cell_type": "code",
   "execution_count": 3,
   "id": "21a6af1c",
   "metadata": {},
   "outputs": [],
   "source": [
    "from services.llm import LLMServices\n",
    "\n",
    "# Inicializa lo necesario (leer YAML, configurar modelos, etc.)\n",
    "LLMServices.launch()\n",
    "\n",
    "# Accede directamente al modelo configurado\n",
    "model = LLMServices.model\n"
   ]
  },
  {
   "cell_type": "code",
   "execution_count": 4,
   "id": "bd505d57",
   "metadata": {},
   "outputs": [
    {
     "data": {
      "text/plain": [
       "AIMessage(content='Hello! How can I assist you today?', additional_kwargs={}, response_metadata={'model': 'gpt-4o-mini-2024-07-18', 'token_usage': {'input_tokens': 8, 'output_tokens': 10, 'total_tokens': 18}, 'finish_reason': 'stop'}, id='run-173bedf2-6f4b-4f84-8eda-2f0426967a1f-0', usage_metadata={'input_tokens': 8, 'output_tokens': 10, 'total_tokens': 18})"
      ]
     },
     "execution_count": 4,
     "metadata": {},
     "output_type": "execute_result"
    }
   ],
   "source": [
    "model.invoke('Hello')"
   ]
  },
  {
   "cell_type": "code",
   "execution_count": null,
   "id": "55473d71",
   "metadata": {},
   "outputs": [],
   "source": []
  }
 ],
 "metadata": {
  "kernelspec": {
   "display_name": ".venv",
   "language": "python",
   "name": "python3"
  },
  "language_info": {
   "codemirror_mode": {
    "name": "ipython",
    "version": 3
   },
   "file_extension": ".py",
   "mimetype": "text/x-python",
   "name": "python",
   "nbconvert_exporter": "python",
   "pygments_lexer": "ipython3",
   "version": "3.12.3"
  }
 },
 "nbformat": 4,
 "nbformat_minor": 5
}
