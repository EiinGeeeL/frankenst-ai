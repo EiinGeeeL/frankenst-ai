{
 "cells": [
  {
   "cell_type": "code",
   "execution_count": null,
   "id": "bad32497",
   "metadata": {},
   "outputs": [],
   "source": [
    "%load_ext autoreload\n",
    "%autoreload 2"
   ]
  },
  {
   "cell_type": "code",
   "execution_count": null,
   "id": "e01d1c96",
   "metadata": {},
   "outputs": [],
   "source": [
    "import os\n",
    "\n",
    "# Get the current research's directory\n",
    "research_dir = os.path.dirname(os.path.abspath('__file__'))\n",
    "\n",
    "# Move one directory back\n",
    "parent_dir = os.path.dirname(research_dir)\n",
    "\n",
    "# Change the current working directory to the parent directory\n",
    "os.chdir(parent_dir)\n",
    "\n",
    "# Print the current working directory to confirm\n",
    "print(f\"Current working directory: {os.getcwd()}\")"
   ]
  },
  {
   "cell_type": "code",
   "execution_count": null,
   "id": "21a6af1c",
   "metadata": {},
   "outputs": [],
   "source": [
    "from services.llm import LLMServices\n",
    "\n",
    "# Inicializa lo necesario (leer YAML, configurar modelos, etc.)\n",
    "LLMServices.launch()\n",
    "\n",
    "# Accede directamente al modelo configurado\n",
    "model = LLMServices.model\n",
    "embeddings = LLMServices.embeddings\n"
   ]
  },
  {
   "cell_type": "code",
   "execution_count": null,
   "id": "b65abc25",
   "metadata": {},
   "outputs": [],
   "source": [
    "from langchain_chroma import Chroma\n",
    "\n",
    "# Define Vector DB\n",
    "vectorstore = Chroma(\n",
    "    collection_name=\"pokemon_series\",\n",
    "    embedding_function=embeddings,\n",
    "    persist_directory=\"./.chroma_db\",  # Where to save data locally, remove if not necessary\n",
    ")"
   ]
  },
  {
   "cell_type": "code",
   "execution_count": null,
   "id": "55473d71",
   "metadata": {},
   "outputs": [],
   "source": [
    "from frank.utils.rag.unstructured import MultiVectorDocumentIndexing\n",
    "\n",
    "# Index phase\n",
    "indexing = MultiVectorDocumentIndexing(llm=model, llm_multimodal=model, vectorstore=vectorstore)\n",
    "\n",
    "indexing.load_pdf('artifacts/rag_docs/EP003 - Ash Catches a Pokémon.pdf')\n",
    "indexing.split_pdf()\n",
    "indexing.summarize_elements()\n",
    "indexing.embed_store_documents()\n",
    "retriever = indexing.get_retriever()"
   ]
  },
  {
   "cell_type": "code",
   "execution_count": null,
   "id": "80c3eb77",
   "metadata": {},
   "outputs": [],
   "source": [
    "indexing.summaries"
   ]
  },
  {
   "cell_type": "code",
   "execution_count": null,
   "id": "0fb63627",
   "metadata": {},
   "outputs": [],
   "source": [
    "docs = retriever.invoke(\"In chapter 3 of the pokemon series, which pokemon was staring at the moon at night?\")\n",
    "\n",
    "# docs = retriever.invoke(\"Who is sleeping while Caterpy and Pikachu get to know each other?\")"
   ]
  },
  {
   "cell_type": "code",
   "execution_count": null,
   "id": "68f9c33c",
   "metadata": {},
   "outputs": [],
   "source": [
    "from frank.utils.rag.processing import parse_docs, show_base64_image\n",
    "\n",
    "docs_dict = parse_docs(docs)\n",
    "show_base64_image(docs_dict['images'][0])"
   ]
  },
  {
   "cell_type": "code",
   "execution_count": null,
   "id": "35524231",
   "metadata": {},
   "outputs": [],
   "source": [
    "from langchain_core.runnables import RunnablePassthrough, RunnableLambda\n",
    "from langchain_core.messages import HumanMessage\n",
    "from langchain_core.prompts import ChatPromptTemplate\n",
    "from langchain_core.output_parsers import StrOutputParser\n",
    "\n",
    "\n",
    "def build_prompt(kwargs):\n",
    "    docs_by_type = kwargs[\"context\"]\n",
    "    user_question = kwargs[\"question\"]\n",
    "\n",
    "    context_text = \"\"\n",
    "    if len(docs_by_type[\"texts\"]) > 0:\n",
    "        for text_element in docs_by_type[\"texts\"]:\n",
    "            context_text += text_element.text\n",
    "\n",
    "    # construct prompt with context (including images)\n",
    "    prompt_template = f\"\"\"\n",
    "    Answer the question based only on the following context, which can include text, tables, and the below image.\n",
    "    Context: {context_text}\n",
    "    Question: {user_question}\n",
    "    \"\"\"\n",
    "\n",
    "    prompt_content = [{\"type\": \"text\", \"text\": prompt_template}]\n",
    "\n",
    "    if len(docs_by_type[\"images\"]) > 0:\n",
    "        for image in docs_by_type[\"images\"]:\n",
    "            prompt_content.append(\n",
    "                {\n",
    "                    \"type\": \"image_url\",\n",
    "                    \"image_url\": {\"url\": f\"data:image/jpeg;base64,{image}\"},\n",
    "                }\n",
    "            )\n",
    "\n",
    "    return ChatPromptTemplate.from_messages(\n",
    "        [\n",
    "            HumanMessage(content=prompt_content),\n",
    "        ]\n",
    "    )\n",
    "\n",
    "\n",
    "chain = (\n",
    "    {\n",
    "        \"context\": retriever | RunnableLambda(parse_docs),\n",
    "        \"question\": RunnablePassthrough(),\n",
    "    }\n",
    "    | RunnableLambda(build_prompt)\n",
    "    | model\n",
    "    | StrOutputParser()\n",
    ")\n",
    "\n",
    "chain_with_sources = {\n",
    "    \"context\": retriever | RunnableLambda(parse_docs),\n",
    "    \"question\": RunnablePassthrough(),\n",
    "} | RunnablePassthrough().assign(\n",
    "    response=(\n",
    "        RunnableLambda(build_prompt)\n",
    "        | model\n",
    "        | StrOutputParser()\n",
    "    )\n",
    ")"
   ]
  },
  {
   "cell_type": "code",
   "execution_count": null,
   "id": "549b9f3e",
   "metadata": {},
   "outputs": [],
   "source": [
    "response = chain.invoke(\n",
    "    \"In the chapter 3 of pokemon series, which is the pokemon who was staring at the moon in the night?\"\n",
    ")\n",
    "print(response)"
   ]
  },
  {
   "cell_type": "code",
   "execution_count": null,
   "id": "38c3be1a",
   "metadata": {},
   "outputs": [],
   "source": []
  }
 ],
 "metadata": {
  "kernelspec": {
   "display_name": ".venv",
   "language": "python",
   "name": "python3"
  },
  "language_info": {
   "codemirror_mode": {
    "name": "ipython",
    "version": 3
   },
   "file_extension": ".py",
   "mimetype": "text/x-python",
   "name": "python",
   "nbconvert_exporter": "python",
   "pygments_lexer": "ipython3",
   "version": "3.12.3"
  }
 },
 "nbformat": 4,
 "nbformat_minor": 5
}
