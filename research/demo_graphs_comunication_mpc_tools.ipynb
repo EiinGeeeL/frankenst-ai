{
 "cells": [
  {
   "cell_type": "code",
   "execution_count": null,
   "id": "bad32497",
   "metadata": {},
   "outputs": [],
   "source": [
    "%load_ext autoreload\n",
    "%autoreload 2"
   ]
  },
  {
   "cell_type": "code",
   "execution_count": null,
   "id": "e01d1c96",
   "metadata": {},
   "outputs": [],
   "source": [
    "import os\n",
    "\n",
    "# Get the current research's directory\n",
    "research_dir = os.path.dirname(os.path.abspath('__file__'))\n",
    "\n",
    "# Move one directory back\n",
    "parent_dir = os.path.dirname(research_dir)\n",
    "\n",
    "# Change the current working directory to the parent directory\n",
    "os.chdir(parent_dir)\n",
    "\n",
    "# Print the current working directory to confirm\n",
    "print(f\"Current working directory: {os.getcwd()}\")"
   ]
  },
  {
   "cell_type": "markdown",
   "id": "b1aa8efc",
   "metadata": {},
   "source": [
    "# OakLang Agent HITL + Adaptative/Agentic RAG"
   ]
  },
  {
   "cell_type": "markdown",
   "id": "1ad3f8c8",
   "metadata": {},
   "source": [
    "## Agents/Graphs as simple tools"
   ]
  },
  {
   "cell_type": "code",
   "execution_count": null,
   "id": "20dd97a9",
   "metadata": {},
   "outputs": [],
   "source": [
    "## COMPILE THE GRAPHS\n",
    "from frank.workflow_builder import WorkflowBuilder\n",
    "from frank.config.layouts.adaptative_rag_config_graph import AdaptativeRAGConfigGraph\n",
    "from frank.config.layouts.oak_human_loop_config_graph import OakHumanLoopConfigGraph\n",
    "from frank.models.stategraph.ragstategraph import RAGState\n",
    "from frank.models.stategraph.stategraph import SharedState\n",
    "from frank.utils.common import read_yaml\n",
    "from frank.utils.logger import setup_logging\n",
    "from frank.constants import *\n",
    "\n",
    "## Read the config.yaml\n",
    "config = read_yaml(CONFIG_FILE_PATH)\n",
    "\n",
    "## Setup logging Configuration\n",
    "setup_logging(config)\n",
    "\n",
    "## Workflow Configuration for the main graph\n",
    "workflow_builder = WorkflowBuilder(\n",
    "    config=AdaptativeRAGConfigGraph, \n",
    "    state_schema=RAGState,\n",
    ")\n",
    "ADAPTATIVE_RAG_GRAPH = workflow_builder.compile() # compile the graph\n",
    "\n",
    "## Workflow Configuration for the main graph\n",
    "workflow_builder = WorkflowBuilder(\n",
    "    config=OakHumanLoopConfigGraph, \n",
    "    state_schema=SharedState,\n",
    ")\n",
    "OAKLANG_AGENT_GRAPH = workflow_builder.compile() # compile the graph"
   ]
  },
  {
   "cell_type": "code",
   "execution_count": null,
   "id": "f9c5b53f",
   "metadata": {},
   "outputs": [],
   "source": [
    "## BUILD THE SIMPLE TOOLS\n",
    "from langchain_core.tools import tool\n",
    "from langgraph.prebuilt import create_react_agent\n",
    "\n",
    "from services.ai_foundry.llm import LLMServices\n",
    "\n",
    "LLMServices.launch()\n",
    "\n",
    "@tool\n",
    "async def oaklang_agent_tool(input: str) -> str:\n",
    "    \"\"\"Tool to ask the evolution or random movements of certain Pokémon. The input is a question.\"\"\"\n",
    "    message_input = {\"messages\": [{\"role\": \"human\", \"content\": input}]}\n",
    "    response = await OAKLANG_AGENT_GRAPH.ainvoke(message_input)\n",
    "    return response['messages'][-1].content\n",
    "\n",
    "@tool\n",
    "async def adaptive_rag_tool(input: str) -> str:\n",
    "    \"\"\"Tool to use RAG about Pokémon series questions. The input is a question.\"\"\"\n",
    "    message_input = {\"messages\": [{\"role\": \"human\", \"content\": input}]}\n",
    "    response = await ADAPTATIVE_RAG_GRAPH.ainvoke(message_input)\n",
    "    return response['messages'][-1].content\n",
    "\n",
    "tools = [oaklang_agent_tool, adaptive_rag_tool]\n",
    "\n",
    "agent_executor = create_react_agent(model = LLMServices.model, tools=tools, prompt=\"You are an agent that can route into tools\")\n",
    "\n",
    "async def main():\n",
    "    return await agent_executor.ainvoke({\n",
    "        \"messages\": [{\n",
    "            \"role\": \"human\",\n",
    "            \"content\": \"In the third chapter of the Pokémon series, what is the name of the Pokémon that was flying in the daytime sky and subsequently caught? and what is the evolution of that pokemon?\"\n",
    "        }]\n",
    "    })\n",
    "\n",
    "response = await main()\n"
   ]
  },
  {
   "cell_type": "code",
   "execution_count": null,
   "id": "eb04e89b",
   "metadata": {},
   "outputs": [],
   "source": [
    "response"
   ]
  },
  {
   "cell_type": "code",
   "execution_count": null,
   "id": "8369ac8c",
   "metadata": {},
   "outputs": [],
   "source": [
    "response[\"messages\"][-1].content"
   ]
  },
  {
   "cell_type": "markdown",
   "id": "cee6828e",
   "metadata": {},
   "source": [
    "## Agents/Graphs as MCP tools"
   ]
  },
  {
   "cell_type": "code",
   "execution_count": null,
   "id": "efde5603",
   "metadata": {},
   "outputs": [],
   "source": [
    "from langchain_mcp_adapters.client import MultiServerMCPClient\n",
    "from langgraph.prebuilt import create_react_agent\n",
    "\n",
    "from services.ai_foundry.llm import LLMServices\n",
    "\n",
    "LLMServices.launch()\n",
    "\n",
    "client = MultiServerMCPClient(\n",
    "    {\n",
    "        \"OakLangAgent\": {\n",
    "            \"command\": \"python\",\n",
    "            \"args\": [\"src/services/mcp/server_oaklang_agent.py\"],\n",
    "            \"transport\": \"stdio\",\n",
    "            },\n",
    "        \"AdaptativeRAG\": { # NOTE: python3 src/services/mcp/server_adaptative_rag.py\n",
    "            \"url\": \"http://localhost:8000/mcp\",\n",
    "            \"transport\": \"streamable_http\",\n",
    "        },\n",
    "        }\n",
    ")\n",
    "tools = await client.get_tools()\n",
    "agent = create_react_agent(\n",
    "    LLMServices.model,\n",
    "    tools\n",
    ")\n",
    "\n",
    "\n",
    "response = await agent.ainvoke(\n",
    "    {\"messages\": [{\n",
    "        \"role\": \"human\",\n",
    "        \"content\": \"In the third chapter of the Pokémon series, what is the name of the Pokémon that was flying in the daytime sky and subsequently caught? and what is the evolution of that pokemon?\"\n",
    "        }]}\n",
    ")\n"
   ]
  },
  {
   "cell_type": "code",
   "execution_count": null,
   "id": "c6085691",
   "metadata": {},
   "outputs": [],
   "source": [
    "response"
   ]
  },
  {
   "cell_type": "code",
   "execution_count": null,
   "id": "9c098c1b",
   "metadata": {},
   "outputs": [],
   "source": [
    "response[\"messages\"][-1].content"
   ]
  }
 ],
 "metadata": {
  "kernelspec": {
   "display_name": ".venv",
   "language": "python",
   "name": "python3"
  },
  "language_info": {
   "codemirror_mode": {
    "name": "ipython",
    "version": 3
   },
   "file_extension": ".py",
   "mimetype": "text/x-python",
   "name": "python",
   "nbconvert_exporter": "python",
   "pygments_lexer": "ipython3",
   "version": "3.12.3"
  }
 },
 "nbformat": 4,
 "nbformat_minor": 5
}
